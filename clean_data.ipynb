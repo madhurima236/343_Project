{
 "cells": [
  {
   "cell_type": "code",
   "execution_count": 76,
   "metadata": {},
   "outputs": [],
   "source": [
    "import pandas as pd"
   ]
  },
  {
   "cell_type": "markdown",
   "metadata": {},
   "source": [
    "# Clean Education and Earning Dataset"
   ]
  },
  {
   "cell_type": "code",
   "execution_count": 77,
   "metadata": {},
   "outputs": [
    {
     "data": {
      "text/html": "<div>\n<style scoped>\n    .dataframe tbody tr th:only-of-type {\n        vertical-align: middle;\n    }\n\n    .dataframe tbody tr th {\n        vertical-align: top;\n    }\n\n    .dataframe thead th {\n        text-align: right;\n    }\n</style>\n<table border=\"1\" class=\"dataframe\">\n  <thead>\n    <tr style=\"text-align: right;\">\n      <th></th>\n      <th>COUNTRY</th>\n      <th>Country</th>\n      <th>ISC11A</th>\n      <th>ISC11A.1</th>\n      <th>SEX</th>\n      <th>Gender</th>\n      <th>AGE</th>\n      <th>Age</th>\n      <th>EARN_CATEGORY</th>\n      <th>EARN_CATEGORY.1</th>\n      <th>...</th>\n      <th>Year</th>\n      <th>Unit Code</th>\n      <th>Unit</th>\n      <th>PowerCode Code</th>\n      <th>PowerCode</th>\n      <th>Reference Period Code</th>\n      <th>Reference Period</th>\n      <th>Value</th>\n      <th>Flag Codes</th>\n      <th>Flags</th>\n    </tr>\n  </thead>\n  <tbody>\n    <tr>\n      <th>0</th>\n      <td>CZE</td>\n      <td>Czech Republic</td>\n      <td>L6</td>\n      <td>Bachelor’s or equivalent education</td>\n      <td>F</td>\n      <td>Women</td>\n      <td>Y55T64</td>\n      <td>55-64 years</td>\n      <td>PTPY_EARNERS</td>\n      <td>Part-time or part-year earners</td>\n      <td>...</td>\n      <td>Latest available year</td>\n      <td>PC</td>\n      <td>Percentage</td>\n      <td>0</td>\n      <td>Units</td>\n      <td>2018.0</td>\n      <td>2018.0</td>\n      <td>NaN</td>\n      <td>m</td>\n      <td>Missing data</td>\n    </tr>\n    <tr>\n      <th>1</th>\n      <td>FIN</td>\n      <td>Finland</td>\n      <td>L7T8</td>\n      <td>Master’s, Doctoral or equivalent education</td>\n      <td>M</td>\n      <td>Men</td>\n      <td>Y25T64</td>\n      <td>25-64 years</td>\n      <td>NO_EARNINGS</td>\n      <td>No earnings</td>\n      <td>...</td>\n      <td>Latest available year</td>\n      <td>PC</td>\n      <td>Percentage</td>\n      <td>0</td>\n      <td>Units</td>\n      <td>2018.0</td>\n      <td>2018.0</td>\n      <td>7.504321</td>\n      <td>NaN</td>\n      <td>NaN</td>\n    </tr>\n    <tr>\n      <th>2</th>\n      <td>KOR</td>\n      <td>Korea</td>\n      <td>L5</td>\n      <td>Short-cycle tertiary education</td>\n      <td>M</td>\n      <td>Men</td>\n      <td>Y25T34</td>\n      <td>25-34 years</td>\n      <td>NO_EARNINGS</td>\n      <td>No earnings</td>\n      <td>...</td>\n      <td>Latest available year</td>\n      <td>PC</td>\n      <td>Percentage</td>\n      <td>0</td>\n      <td>Units</td>\n      <td>2019.0</td>\n      <td>2019.0</td>\n      <td>23.137910</td>\n      <td>NaN</td>\n      <td>NaN</td>\n    </tr>\n    <tr>\n      <th>3</th>\n      <td>NLD</td>\n      <td>Netherlands</td>\n      <td>L6</td>\n      <td>Bachelor’s or equivalent education</td>\n      <td>F</td>\n      <td>Women</td>\n      <td>Y25T64</td>\n      <td>25-64 years</td>\n      <td>FTFY_EARNERS</td>\n      <td>Full-time, full-year earners</td>\n      <td>...</td>\n      <td>Latest available year</td>\n      <td>PC</td>\n      <td>Percentage</td>\n      <td>0</td>\n      <td>Units</td>\n      <td>2019.0</td>\n      <td>2019.0</td>\n      <td>NaN</td>\n      <td>m</td>\n      <td>Missing data</td>\n    </tr>\n    <tr>\n      <th>4</th>\n      <td>ESP</td>\n      <td>Spain</td>\n      <td>L5</td>\n      <td>Short-cycle tertiary education</td>\n      <td>M</td>\n      <td>Men</td>\n      <td>Y55T64</td>\n      <td>55-64 years</td>\n      <td>PTPY_EARNERS</td>\n      <td>Part-time or part-year earners</td>\n      <td>...</td>\n      <td>Latest available year</td>\n      <td>PC</td>\n      <td>Percentage</td>\n      <td>0</td>\n      <td>Units</td>\n      <td>2018.0</td>\n      <td>2018.0</td>\n      <td>16.337100</td>\n      <td>NaN</td>\n      <td>NaN</td>\n    </tr>\n  </tbody>\n</table>\n<p>5 rows × 25 columns</p>\n</div>",
      "text/plain": "  COUNTRY         Country ISC11A                                    ISC11A.1  \\\n0     CZE  Czech Republic     L6          Bachelor’s or equivalent education   \n1     FIN         Finland   L7T8  Master’s, Doctoral or equivalent education   \n2     KOR           Korea     L5              Short-cycle tertiary education   \n3     NLD     Netherlands     L6          Bachelor’s or equivalent education   \n4     ESP           Spain     L5              Short-cycle tertiary education   \n\n  SEX Gender     AGE          Age EARN_CATEGORY  \\\n0   F  Women  Y55T64  55-64 years  PTPY_EARNERS   \n1   M    Men  Y25T64  25-64 years   NO_EARNINGS   \n2   M    Men  Y25T34  25-34 years   NO_EARNINGS   \n3   F  Women  Y25T64  25-64 years  FTFY_EARNERS   \n4   M    Men  Y55T64  55-64 years  PTPY_EARNERS   \n\n                  EARN_CATEGORY.1  ...                   Year Unit Code  \\\n0  Part-time or part-year earners  ...  Latest available year        PC   \n1                     No earnings  ...  Latest available year        PC   \n2                     No earnings  ...  Latest available year        PC   \n3    Full-time, full-year earners  ...  Latest available year        PC   \n4  Part-time or part-year earners  ...  Latest available year        PC   \n\n         Unit PowerCode Code  PowerCode Reference Period Code  \\\n0  Percentage              0      Units                2018.0   \n1  Percentage              0      Units                2018.0   \n2  Percentage              0      Units                2019.0   \n3  Percentage              0      Units                2019.0   \n4  Percentage              0      Units                2018.0   \n\n  Reference Period      Value  Flag Codes         Flags  \n0           2018.0        NaN           m  Missing data  \n1           2018.0   7.504321         NaN           NaN  \n2           2019.0  23.137910         NaN           NaN  \n3           2019.0        NaN           m  Missing data  \n4           2018.0  16.337100         NaN           NaN  \n\n[5 rows x 25 columns]"
     },
     "execution_count": 77,
     "metadata": {},
     "output_type": "execute_result"
    }
   ],
   "source": [
    "df = pd.read_csv(\"original databases/Education and Earnings.csv\")\n",
    "df.head()"
   ]
  },
  {
   "cell_type": "markdown",
   "metadata": {},
   "source": [
    "Remove redundant columns"
   ]
  },
  {
   "cell_type": "code",
   "execution_count": 78,
   "metadata": {},
   "outputs": [],
   "source": [
    "df = df.drop([\"ISC11A\",\"SEX\", \"AGE\", \"EARN_CATEGORY\", \"Reference Period Code\"], axis=1)"
   ]
  },
  {
   "cell_type": "markdown",
   "metadata": {},
   "source": [
    "Remove Unnecessary Columns"
   ]
  },
  {
   "cell_type": "code",
   "execution_count": 79,
   "metadata": {},
   "outputs": [
    {
     "data": {
      "text/html": "<div>\n<style scoped>\n    .dataframe tbody tr th:only-of-type {\n        vertical-align: middle;\n    }\n\n    .dataframe tbody tr th {\n        vertical-align: top;\n    }\n\n    .dataframe thead th {\n        text-align: right;\n    }\n</style>\n<table border=\"1\" class=\"dataframe\">\n  <thead>\n    <tr style=\"text-align: right;\">\n      <th></th>\n      <th>COUNTRY</th>\n      <th>Country</th>\n      <th>ISC11A.1</th>\n      <th>Gender</th>\n      <th>Age</th>\n      <th>EARN_CATEGORY.1</th>\n      <th>Reference Period</th>\n      <th>Value</th>\n    </tr>\n  </thead>\n  <tbody>\n    <tr>\n      <th>0</th>\n      <td>CZE</td>\n      <td>Czech Republic</td>\n      <td>Bachelor’s or equivalent education</td>\n      <td>Women</td>\n      <td>55-64 years</td>\n      <td>Part-time or part-year earners</td>\n      <td>2018.0</td>\n      <td>NaN</td>\n    </tr>\n    <tr>\n      <th>1</th>\n      <td>FIN</td>\n      <td>Finland</td>\n      <td>Master’s, Doctoral or equivalent education</td>\n      <td>Men</td>\n      <td>25-64 years</td>\n      <td>No earnings</td>\n      <td>2018.0</td>\n      <td>7.504321</td>\n    </tr>\n    <tr>\n      <th>2</th>\n      <td>KOR</td>\n      <td>Korea</td>\n      <td>Short-cycle tertiary education</td>\n      <td>Men</td>\n      <td>25-34 years</td>\n      <td>No earnings</td>\n      <td>2019.0</td>\n      <td>23.137910</td>\n    </tr>\n    <tr>\n      <th>3</th>\n      <td>NLD</td>\n      <td>Netherlands</td>\n      <td>Bachelor’s or equivalent education</td>\n      <td>Women</td>\n      <td>25-64 years</td>\n      <td>Full-time, full-year earners</td>\n      <td>2019.0</td>\n      <td>NaN</td>\n    </tr>\n    <tr>\n      <th>4</th>\n      <td>ESP</td>\n      <td>Spain</td>\n      <td>Short-cycle tertiary education</td>\n      <td>Men</td>\n      <td>55-64 years</td>\n      <td>Part-time or part-year earners</td>\n      <td>2018.0</td>\n      <td>16.337100</td>\n    </tr>\n  </tbody>\n</table>\n</div>",
      "text/plain": "  COUNTRY         Country                                    ISC11A.1 Gender  \\\n0     CZE  Czech Republic          Bachelor’s or equivalent education  Women   \n1     FIN         Finland  Master’s, Doctoral or equivalent education    Men   \n2     KOR           Korea              Short-cycle tertiary education    Men   \n3     NLD     Netherlands          Bachelor’s or equivalent education  Women   \n4     ESP           Spain              Short-cycle tertiary education    Men   \n\n           Age                 EARN_CATEGORY.1  Reference Period      Value  \n0  55-64 years  Part-time or part-year earners            2018.0        NaN  \n1  25-64 years                     No earnings            2018.0   7.504321  \n2  25-34 years                     No earnings            2019.0  23.137910  \n3  25-64 years    Full-time, full-year earners            2019.0        NaN  \n4  55-64 years  Part-time or part-year earners            2018.0  16.337100  "
     },
     "execution_count": 79,
     "metadata": {},
     "output_type": "execute_result"
    }
   ],
   "source": [
    "df = df.drop([\"YEAR\", \"INDICATOR\", \"Indicator\", \"MEASURE\", \"Measure\", \"Unit\", \"Year\",\"Unit Code\", \"PowerCode Code\", \"PowerCode\", \"Flag Codes\", \"Flags\"],  axis=1)\n",
    "\n",
    "df.head()"
   ]
  },
  {
   "cell_type": "code",
   "execution_count": 80,
   "metadata": {},
   "outputs": [],
   "source": [
    "df = df.dropna()"
   ]
  },
  {
   "cell_type": "code",
   "execution_count": 81,
   "metadata": {},
   "outputs": [
    {
     "data": {
      "text/html": "<div>\n<style scoped>\n    .dataframe tbody tr th:only-of-type {\n        vertical-align: middle;\n    }\n\n    .dataframe tbody tr th {\n        vertical-align: top;\n    }\n\n    .dataframe thead th {\n        text-align: right;\n    }\n</style>\n<table border=\"1\" class=\"dataframe\">\n  <thead>\n    <tr style=\"text-align: right;\">\n      <th></th>\n      <th>COUNTRY</th>\n      <th>Country</th>\n      <th>ISC11A.1</th>\n      <th>Gender</th>\n      <th>Age</th>\n      <th>EARN_CATEGORY.1</th>\n      <th>Reference Period</th>\n      <th>Value</th>\n    </tr>\n  </thead>\n  <tbody>\n    <tr>\n      <th>1</th>\n      <td>FIN</td>\n      <td>Finland</td>\n      <td>Master’s, Doctoral or equivalent education</td>\n      <td>Men</td>\n      <td>25-64 years</td>\n      <td>No earnings</td>\n      <td>2018.0</td>\n      <td>7.504321</td>\n    </tr>\n    <tr>\n      <th>2</th>\n      <td>KOR</td>\n      <td>Korea</td>\n      <td>Short-cycle tertiary education</td>\n      <td>Men</td>\n      <td>25-34 years</td>\n      <td>No earnings</td>\n      <td>2019.0</td>\n      <td>23.137910</td>\n    </tr>\n    <tr>\n      <th>4</th>\n      <td>ESP</td>\n      <td>Spain</td>\n      <td>Short-cycle tertiary education</td>\n      <td>Men</td>\n      <td>55-64 years</td>\n      <td>Part-time or part-year earners</td>\n      <td>2018.0</td>\n      <td>16.337100</td>\n    </tr>\n    <tr>\n      <th>5</th>\n      <td>CAN</td>\n      <td>Canada</td>\n      <td>Short-cycle tertiary education</td>\n      <td>Total</td>\n      <td>25-34 years</td>\n      <td>Full-time, full-year earners</td>\n      <td>2018.0</td>\n      <td>57.607890</td>\n    </tr>\n    <tr>\n      <th>7</th>\n      <td>NZL</td>\n      <td>New Zealand</td>\n      <td>Master’s, Doctoral or equivalent education</td>\n      <td>Men</td>\n      <td>25-64 years</td>\n      <td>No earnings</td>\n      <td>2019.0</td>\n      <td>9.804529</td>\n    </tr>\n  </tbody>\n</table>\n</div>",
      "text/plain": "  COUNTRY      Country                                    ISC11A.1 Gender  \\\n1     FIN      Finland  Master’s, Doctoral or equivalent education    Men   \n2     KOR        Korea              Short-cycle tertiary education    Men   \n4     ESP        Spain              Short-cycle tertiary education    Men   \n5     CAN       Canada              Short-cycle tertiary education  Total   \n7     NZL  New Zealand  Master’s, Doctoral or equivalent education    Men   \n\n           Age                 EARN_CATEGORY.1  Reference Period      Value  \n1  25-64 years                     No earnings            2018.0   7.504321  \n2  25-34 years                     No earnings            2019.0  23.137910  \n4  55-64 years  Part-time or part-year earners            2018.0  16.337100  \n5  25-34 years    Full-time, full-year earners            2018.0  57.607890  \n7  25-64 years                     No earnings            2019.0   9.804529  "
     },
     "execution_count": 81,
     "metadata": {},
     "output_type": "execute_result"
    }
   ],
   "source": [
    "df.head()"
   ]
  },
  {
   "cell_type": "code",
   "execution_count": 82,
   "metadata": {},
   "outputs": [],
   "source": [
    "df.to_csv(\"cleaned databases/edu_earnings.csv\")"
   ]
  },
  {
   "cell_type": "markdown",
   "metadata": {},
   "source": [
    "# Clean Enrolment by Field"
   ]
  },
  {
   "cell_type": "code",
   "execution_count": 84,
   "metadata": {},
   "outputs": [
    {
     "data": {
      "text/html": "<div>\n<style scoped>\n    .dataframe tbody tr th:only-of-type {\n        vertical-align: middle;\n    }\n\n    .dataframe tbody tr th {\n        vertical-align: top;\n    }\n\n    .dataframe thead th {\n        text-align: right;\n    }\n</style>\n<table border=\"1\" class=\"dataframe\">\n  <thead>\n    <tr style=\"text-align: right;\">\n      <th></th>\n      <th>COUNTRY</th>\n      <th>Country</th>\n      <th>SEX</th>\n      <th>Gender</th>\n      <th>EDUCATION_FIELD</th>\n      <th>Field</th>\n      <th>MOBILITY</th>\n      <th>International mobility</th>\n      <th>EDUCATION_LEV</th>\n      <th>Education level</th>\n      <th>YEAR</th>\n      <th>Year</th>\n      <th>Value</th>\n      <th>Flag Codes</th>\n      <th>Flags</th>\n    </tr>\n  </thead>\n  <tbody>\n    <tr>\n      <th>0</th>\n      <td>AUS</td>\n      <td>Australia</td>\n      <td>M</td>\n      <td>Male</td>\n      <td>F01</td>\n      <td>Education</td>\n      <td>_T</td>\n      <td>Total</td>\n      <td>ISCED11_5</td>\n      <td>Short-cycle tertiary education</td>\n      <td>2019</td>\n      <td>2019</td>\n      <td>3496.0</td>\n      <td>NaN</td>\n      <td>NaN</td>\n    </tr>\n    <tr>\n      <th>1</th>\n      <td>AUS</td>\n      <td>Australia</td>\n      <td>F</td>\n      <td>Female</td>\n      <td>F01</td>\n      <td>Education</td>\n      <td>MOB</td>\n      <td>Mobile including homecoming nationals</td>\n      <td>ISCED11_5</td>\n      <td>Short-cycle tertiary education</td>\n      <td>2019</td>\n      <td>2019</td>\n      <td>4039.0</td>\n      <td>NaN</td>\n      <td>NaN</td>\n    </tr>\n    <tr>\n      <th>2</th>\n      <td>AUS</td>\n      <td>Australia</td>\n      <td>M</td>\n      <td>Male</td>\n      <td>F01</td>\n      <td>Education</td>\n      <td>MOB</td>\n      <td>Mobile including homecoming nationals</td>\n      <td>ISCED11_5</td>\n      <td>Short-cycle tertiary education</td>\n      <td>2019</td>\n      <td>2019</td>\n      <td>301.0</td>\n      <td>NaN</td>\n      <td>NaN</td>\n    </tr>\n    <tr>\n      <th>3</th>\n      <td>AUS</td>\n      <td>Australia</td>\n      <td>F</td>\n      <td>Female</td>\n      <td>F01</td>\n      <td>Education</td>\n      <td>MOB_HOME</td>\n      <td>Homecoming nationals</td>\n      <td>ISCED11_5</td>\n      <td>Short-cycle tertiary education</td>\n      <td>2019</td>\n      <td>2019</td>\n      <td>NaN</td>\n      <td>m</td>\n      <td>Missing value; data cannot exist</td>\n    </tr>\n    <tr>\n      <th>4</th>\n      <td>AUS</td>\n      <td>Australia</td>\n      <td>M</td>\n      <td>Male</td>\n      <td>F01</td>\n      <td>Education</td>\n      <td>_T</td>\n      <td>Total</td>\n      <td>ISCED11_6</td>\n      <td>Bachelor’s or equivalent level</td>\n      <td>2019</td>\n      <td>2019</td>\n      <td>19886.5</td>\n      <td>NaN</td>\n      <td>NaN</td>\n    </tr>\n  </tbody>\n</table>\n</div>",
      "text/plain": "  COUNTRY    Country SEX  Gender EDUCATION_FIELD      Field  MOBILITY  \\\n0     AUS  Australia   M    Male             F01  Education        _T   \n1     AUS  Australia   F  Female             F01  Education       MOB   \n2     AUS  Australia   M    Male             F01  Education       MOB   \n3     AUS  Australia   F  Female             F01  Education  MOB_HOME   \n4     AUS  Australia   M    Male             F01  Education        _T   \n\n                  International mobility EDUCATION_LEV  \\\n0                                  Total     ISCED11_5   \n1  Mobile including homecoming nationals     ISCED11_5   \n2  Mobile including homecoming nationals     ISCED11_5   \n3                   Homecoming nationals     ISCED11_5   \n4                                  Total     ISCED11_6   \n\n                  Education level  YEAR  Year    Value Flag Codes  \\\n0  Short-cycle tertiary education  2019  2019   3496.0        NaN   \n1  Short-cycle tertiary education  2019  2019   4039.0        NaN   \n2  Short-cycle tertiary education  2019  2019    301.0        NaN   \n3  Short-cycle tertiary education  2019  2019      NaN          m   \n4  Bachelor’s or equivalent level  2019  2019  19886.5        NaN   \n\n                              Flags  \n0                               NaN  \n1                               NaN  \n2                               NaN  \n3  Missing value; data cannot exist  \n4                               NaN  "
     },
     "execution_count": 84,
     "metadata": {},
     "output_type": "execute_result"
    }
   ],
   "source": [
    "df = pd.read_csv(\"original databases/Enrolment by Field.csv\")\n",
    "df.head()"
   ]
  },
  {
   "cell_type": "markdown",
   "metadata": {},
   "source": [
    "Remove columns with redundant data"
   ]
  },
  {
   "cell_type": "code",
   "execution_count": 85,
   "metadata": {},
   "outputs": [],
   "source": [
    "df = df.drop([\"SEX\", \"EDUCATION_FIELD\", \"YEAR\"], axis=1)"
   ]
  },
  {
   "cell_type": "markdown",
   "metadata": {},
   "source": [
    "Remove columns with Unnecessary data"
   ]
  },
  {
   "cell_type": "code",
   "execution_count": 86,
   "metadata": {},
   "outputs": [],
   "source": [
    "df = df.drop([\"MOBILITY\", \"EDUCATION_LEV\", \"Flag Codes\", \"Flags\"], axis=1)"
   ]
  },
  {
   "cell_type": "markdown",
   "metadata": {},
   "source": [
    "Remove rows with NAN values"
   ]
  },
  {
   "cell_type": "code",
   "execution_count": 87,
   "metadata": {},
   "outputs": [],
   "source": [
    "df = df.dropna()"
   ]
  },
  {
   "cell_type": "code",
   "execution_count": 88,
   "metadata": {},
   "outputs": [
    {
     "data": {
      "text/html": "<div>\n<style scoped>\n    .dataframe tbody tr th:only-of-type {\n        vertical-align: middle;\n    }\n\n    .dataframe tbody tr th {\n        vertical-align: top;\n    }\n\n    .dataframe thead th {\n        text-align: right;\n    }\n</style>\n<table border=\"1\" class=\"dataframe\">\n  <thead>\n    <tr style=\"text-align: right;\">\n      <th></th>\n      <th>COUNTRY</th>\n      <th>Country</th>\n      <th>Gender</th>\n      <th>Field</th>\n      <th>International mobility</th>\n      <th>Education level</th>\n      <th>Year</th>\n      <th>Value</th>\n    </tr>\n  </thead>\n  <tbody>\n    <tr>\n      <th>0</th>\n      <td>AUS</td>\n      <td>Australia</td>\n      <td>Male</td>\n      <td>Education</td>\n      <td>Total</td>\n      <td>Short-cycle tertiary education</td>\n      <td>2019</td>\n      <td>3496.000</td>\n    </tr>\n    <tr>\n      <th>1</th>\n      <td>AUS</td>\n      <td>Australia</td>\n      <td>Female</td>\n      <td>Education</td>\n      <td>Mobile including homecoming nationals</td>\n      <td>Short-cycle tertiary education</td>\n      <td>2019</td>\n      <td>4039.000</td>\n    </tr>\n    <tr>\n      <th>2</th>\n      <td>AUS</td>\n      <td>Australia</td>\n      <td>Male</td>\n      <td>Education</td>\n      <td>Mobile including homecoming nationals</td>\n      <td>Short-cycle tertiary education</td>\n      <td>2019</td>\n      <td>301.000</td>\n    </tr>\n    <tr>\n      <th>4</th>\n      <td>AUS</td>\n      <td>Australia</td>\n      <td>Male</td>\n      <td>Education</td>\n      <td>Total</td>\n      <td>Bachelor’s or equivalent level</td>\n      <td>2019</td>\n      <td>19886.500</td>\n    </tr>\n    <tr>\n      <th>5</th>\n      <td>AUS</td>\n      <td>Australia</td>\n      <td>Female</td>\n      <td>Education</td>\n      <td>Mobile including homecoming nationals</td>\n      <td>Bachelor’s or equivalent level</td>\n      <td>2019</td>\n      <td>3616.138</td>\n    </tr>\n    <tr>\n      <th>...</th>\n      <td>...</td>\n      <td>...</td>\n      <td>...</td>\n      <td>...</td>\n      <td>...</td>\n      <td>...</td>\n      <td>...</td>\n      <td>...</td>\n    </tr>\n    <tr>\n      <th>9353</th>\n      <td>KOR</td>\n      <td>Korea</td>\n      <td>Female</td>\n      <td>Natural sciences, mathematics and statistics</td>\n      <td>Mobile including homecoming nationals</td>\n      <td>Bachelor’s or equivalent level</td>\n      <td>2019</td>\n      <td>412.000</td>\n    </tr>\n    <tr>\n      <th>9354</th>\n      <td>NOR</td>\n      <td>Norway</td>\n      <td>Male</td>\n      <td>Agriculture, forestry, fisheries and veterinary</td>\n      <td>Total</td>\n      <td>Master’s or equivalent level</td>\n      <td>2019</td>\n      <td>238.000</td>\n    </tr>\n    <tr>\n      <th>9357</th>\n      <td>LVA</td>\n      <td>Latvia</td>\n      <td>Male</td>\n      <td>Information and Communication Technologies (ICTs)</td>\n      <td>Total</td>\n      <td>Doctoral or equivalent level</td>\n      <td>2019</td>\n      <td>78.000</td>\n    </tr>\n    <tr>\n      <th>9358</th>\n      <td>DNK</td>\n      <td>Denmark</td>\n      <td>Male</td>\n      <td>Natural sciences, mathematics and statistics</td>\n      <td>Homecoming nationals</td>\n      <td>Doctoral or equivalent level</td>\n      <td>2019</td>\n      <td>9.000</td>\n    </tr>\n    <tr>\n      <th>9359</th>\n      <td>JPN</td>\n      <td>Japan</td>\n      <td>Female</td>\n      <td>Education</td>\n      <td>Mobile including homecoming nationals</td>\n      <td>Master’s or equivalent level</td>\n      <td>2019</td>\n      <td>667.000</td>\n    </tr>\n  </tbody>\n</table>\n<p>6956 rows × 8 columns</p>\n</div>",
      "text/plain": "     COUNTRY    Country  Gender  \\\n0        AUS  Australia    Male   \n1        AUS  Australia  Female   \n2        AUS  Australia    Male   \n4        AUS  Australia    Male   \n5        AUS  Australia  Female   \n...      ...        ...     ...   \n9353     KOR      Korea  Female   \n9354     NOR     Norway    Male   \n9357     LVA     Latvia    Male   \n9358     DNK    Denmark    Male   \n9359     JPN      Japan  Female   \n\n                                                  Field  \\\n0                                             Education   \n1                                             Education   \n2                                             Education   \n4                                             Education   \n5                                             Education   \n...                                                 ...   \n9353       Natural sciences, mathematics and statistics   \n9354    Agriculture, forestry, fisheries and veterinary   \n9357  Information and Communication Technologies (ICTs)   \n9358       Natural sciences, mathematics and statistics   \n9359                                          Education   \n\n                     International mobility                 Education level  \\\n0                                     Total  Short-cycle tertiary education   \n1     Mobile including homecoming nationals  Short-cycle tertiary education   \n2     Mobile including homecoming nationals  Short-cycle tertiary education   \n4                                     Total  Bachelor’s or equivalent level   \n5     Mobile including homecoming nationals  Bachelor’s or equivalent level   \n...                                     ...                             ...   \n9353  Mobile including homecoming nationals  Bachelor’s or equivalent level   \n9354                                  Total    Master’s or equivalent level   \n9357                                  Total    Doctoral or equivalent level   \n9358                   Homecoming nationals    Doctoral or equivalent level   \n9359  Mobile including homecoming nationals    Master’s or equivalent level   \n\n      Year      Value  \n0     2019   3496.000  \n1     2019   4039.000  \n2     2019    301.000  \n4     2019  19886.500  \n5     2019   3616.138  \n...    ...        ...  \n9353  2019    412.000  \n9354  2019    238.000  \n9357  2019     78.000  \n9358  2019      9.000  \n9359  2019    667.000  \n\n[6956 rows x 8 columns]"
     },
     "execution_count": 88,
     "metadata": {},
     "output_type": "execute_result"
    }
   ],
   "source": [
    "df"
   ]
  },
  {
   "cell_type": "code",
   "execution_count": 89,
   "metadata": {},
   "outputs": [],
   "source": [
    "df.to_csv(\"cleaned databases/enrol_field.csv\")"
   ]
  },
  {
   "cell_type": "markdown",
   "metadata": {},
   "source": [
    "# Clean Enrolment by type of Institution Dataset"
   ]
  },
  {
   "cell_type": "code",
   "execution_count": 91,
   "metadata": {},
   "outputs": [
    {
     "data": {
      "text/html": "<div>\n<style scoped>\n    .dataframe tbody tr th:only-of-type {\n        vertical-align: middle;\n    }\n\n    .dataframe tbody tr th {\n        vertical-align: top;\n    }\n\n    .dataframe thead th {\n        text-align: right;\n    }\n</style>\n<table border=\"1\" class=\"dataframe\">\n  <thead>\n    <tr style=\"text-align: right;\">\n      <th></th>\n      <th>COUNTRY</th>\n      <th>Country</th>\n      <th>SEX</th>\n      <th>Gender</th>\n      <th>REF_SECTOR</th>\n      <th>Reference sector</th>\n      <th>INTENSITY</th>\n      <th>Intensity</th>\n      <th>EDUCATION_LEV</th>\n      <th>Education level</th>\n      <th>UNIT_MEASURE</th>\n      <th>Unit</th>\n      <th>YEAR</th>\n      <th>Year</th>\n      <th>Value</th>\n      <th>Flag Codes</th>\n      <th>Flags</th>\n    </tr>\n  </thead>\n  <tbody>\n    <tr>\n      <th>0</th>\n      <td>AUS</td>\n      <td>Australia</td>\n      <td>_T</td>\n      <td>Total</td>\n      <td>INST_PUB</td>\n      <td>Public educational institutions</td>\n      <td>_T</td>\n      <td>Full- and part-time</td>\n      <td>ISCED11_5</td>\n      <td>Short-cycle tertiary education</td>\n      <td>PN</td>\n      <td>Pure number</td>\n      <td>2013</td>\n      <td>2013</td>\n      <td>166673.0</td>\n      <td>NaN</td>\n      <td>NaN</td>\n    </tr>\n    <tr>\n      <th>1</th>\n      <td>AUS</td>\n      <td>Australia</td>\n      <td>_T</td>\n      <td>Total</td>\n      <td>INST_PUB</td>\n      <td>Public educational institutions</td>\n      <td>_T</td>\n      <td>Full- and part-time</td>\n      <td>ISCED11_5</td>\n      <td>Short-cycle tertiary education</td>\n      <td>PN</td>\n      <td>Pure number</td>\n      <td>2014</td>\n      <td>2014</td>\n      <td>172519.0</td>\n      <td>NaN</td>\n      <td>NaN</td>\n    </tr>\n    <tr>\n      <th>2</th>\n      <td>AUS</td>\n      <td>Australia</td>\n      <td>_T</td>\n      <td>Total</td>\n      <td>INST_PUB</td>\n      <td>Public educational institutions</td>\n      <td>_T</td>\n      <td>Full- and part-time</td>\n      <td>ISCED11_5</td>\n      <td>Short-cycle tertiary education</td>\n      <td>PN</td>\n      <td>Pure number</td>\n      <td>2015</td>\n      <td>2015</td>\n      <td>401223.0</td>\n      <td>NaN</td>\n      <td>NaN</td>\n    </tr>\n    <tr>\n      <th>3</th>\n      <td>AUS</td>\n      <td>Australia</td>\n      <td>_T</td>\n      <td>Total</td>\n      <td>INST_PUB</td>\n      <td>Public educational institutions</td>\n      <td>_T</td>\n      <td>Full- and part-time</td>\n      <td>ISCED11_5</td>\n      <td>Short-cycle tertiary education</td>\n      <td>PN</td>\n      <td>Pure number</td>\n      <td>2016</td>\n      <td>2016</td>\n      <td>383699.0</td>\n      <td>NaN</td>\n      <td>NaN</td>\n    </tr>\n    <tr>\n      <th>4</th>\n      <td>AUS</td>\n      <td>Australia</td>\n      <td>_T</td>\n      <td>Total</td>\n      <td>INST_PUB</td>\n      <td>Public educational institutions</td>\n      <td>_T</td>\n      <td>Full- and part-time</td>\n      <td>ISCED11_5</td>\n      <td>Short-cycle tertiary education</td>\n      <td>PN</td>\n      <td>Pure number</td>\n      <td>2017</td>\n      <td>2017</td>\n      <td>296421.0</td>\n      <td>NaN</td>\n      <td>NaN</td>\n    </tr>\n  </tbody>\n</table>\n</div>",
      "text/plain": "  COUNTRY    Country SEX Gender REF_SECTOR                 Reference sector  \\\n0     AUS  Australia  _T  Total   INST_PUB  Public educational institutions   \n1     AUS  Australia  _T  Total   INST_PUB  Public educational institutions   \n2     AUS  Australia  _T  Total   INST_PUB  Public educational institutions   \n3     AUS  Australia  _T  Total   INST_PUB  Public educational institutions   \n4     AUS  Australia  _T  Total   INST_PUB  Public educational institutions   \n\n  INTENSITY            Intensity EDUCATION_LEV  \\\n0        _T  Full- and part-time     ISCED11_5   \n1        _T  Full- and part-time     ISCED11_5   \n2        _T  Full- and part-time     ISCED11_5   \n3        _T  Full- and part-time     ISCED11_5   \n4        _T  Full- and part-time     ISCED11_5   \n\n                  Education level UNIT_MEASURE         Unit  YEAR  Year  \\\n0  Short-cycle tertiary education           PN  Pure number  2013  2013   \n1  Short-cycle tertiary education           PN  Pure number  2014  2014   \n2  Short-cycle tertiary education           PN  Pure number  2015  2015   \n3  Short-cycle tertiary education           PN  Pure number  2016  2016   \n4  Short-cycle tertiary education           PN  Pure number  2017  2017   \n\n      Value Flag Codes Flags  \n0  166673.0        NaN   NaN  \n1  172519.0        NaN   NaN  \n2  401223.0        NaN   NaN  \n3  383699.0        NaN   NaN  \n4  296421.0        NaN   NaN  "
     },
     "execution_count": 91,
     "metadata": {},
     "output_type": "execute_result"
    }
   ],
   "source": [
    "df = pd.read_csv(\"original databases/Enrolment by type of Institution.csv\")\n",
    "df.head()"
   ]
  },
  {
   "cell_type": "markdown",
   "metadata": {},
   "source": [
    "Remove columns with unnecessary data"
   ]
  },
  {
   "cell_type": "code",
   "execution_count": 92,
   "metadata": {},
   "outputs": [],
   "source": [
    "df = df.drop([\"SEX\", \"Gender\",\"UNIT_MEASURE\", \"Unit\", \"Flag Codes\", \"Flags\"], axis=1)"
   ]
  },
  {
   "cell_type": "markdown",
   "metadata": {},
   "source": [
    "Remove columns with redundant data"
   ]
  },
  {
   "cell_type": "code",
   "execution_count": 93,
   "metadata": {},
   "outputs": [],
   "source": [
    "df = df.drop([\"REF_SECTOR\", \"INTENSITY\", \"EDUCATION_LEV\", \"YEAR\"], axis=1)"
   ]
  },
  {
   "cell_type": "markdown",
   "metadata": {},
   "source": [
    "Remove rows with NAN values"
   ]
  },
  {
   "cell_type": "code",
   "execution_count": 94,
   "metadata": {},
   "outputs": [],
   "source": [
    "df = df.dropna()"
   ]
  },
  {
   "cell_type": "code",
   "execution_count": 95,
   "metadata": {},
   "outputs": [
    {
     "data": {
      "text/html": "<div>\n<style scoped>\n    .dataframe tbody tr th:only-of-type {\n        vertical-align: middle;\n    }\n\n    .dataframe tbody tr th {\n        vertical-align: top;\n    }\n\n    .dataframe thead th {\n        text-align: right;\n    }\n</style>\n<table border=\"1\" class=\"dataframe\">\n  <thead>\n    <tr style=\"text-align: right;\">\n      <th></th>\n      <th>COUNTRY</th>\n      <th>Country</th>\n      <th>Reference sector</th>\n      <th>Intensity</th>\n      <th>Education level</th>\n      <th>Year</th>\n      <th>Value</th>\n    </tr>\n  </thead>\n  <tbody>\n    <tr>\n      <th>0</th>\n      <td>AUS</td>\n      <td>Australia</td>\n      <td>Public educational institutions</td>\n      <td>Full- and part-time</td>\n      <td>Short-cycle tertiary education</td>\n      <td>2013</td>\n      <td>166673.0</td>\n    </tr>\n    <tr>\n      <th>1</th>\n      <td>AUS</td>\n      <td>Australia</td>\n      <td>Public educational institutions</td>\n      <td>Full- and part-time</td>\n      <td>Short-cycle tertiary education</td>\n      <td>2014</td>\n      <td>172519.0</td>\n    </tr>\n    <tr>\n      <th>2</th>\n      <td>AUS</td>\n      <td>Australia</td>\n      <td>Public educational institutions</td>\n      <td>Full- and part-time</td>\n      <td>Short-cycle tertiary education</td>\n      <td>2015</td>\n      <td>401223.0</td>\n    </tr>\n    <tr>\n      <th>3</th>\n      <td>AUS</td>\n      <td>Australia</td>\n      <td>Public educational institutions</td>\n      <td>Full- and part-time</td>\n      <td>Short-cycle tertiary education</td>\n      <td>2016</td>\n      <td>383699.0</td>\n    </tr>\n    <tr>\n      <th>4</th>\n      <td>AUS</td>\n      <td>Australia</td>\n      <td>Public educational institutions</td>\n      <td>Full- and part-time</td>\n      <td>Short-cycle tertiary education</td>\n      <td>2017</td>\n      <td>296421.0</td>\n    </tr>\n  </tbody>\n</table>\n</div>",
      "text/plain": "  COUNTRY    Country                 Reference sector            Intensity  \\\n0     AUS  Australia  Public educational institutions  Full- and part-time   \n1     AUS  Australia  Public educational institutions  Full- and part-time   \n2     AUS  Australia  Public educational institutions  Full- and part-time   \n3     AUS  Australia  Public educational institutions  Full- and part-time   \n4     AUS  Australia  Public educational institutions  Full- and part-time   \n\n                  Education level  Year     Value  \n0  Short-cycle tertiary education  2013  166673.0  \n1  Short-cycle tertiary education  2014  172519.0  \n2  Short-cycle tertiary education  2015  401223.0  \n3  Short-cycle tertiary education  2016  383699.0  \n4  Short-cycle tertiary education  2017  296421.0  "
     },
     "execution_count": 95,
     "metadata": {},
     "output_type": "execute_result"
    }
   ],
   "source": [
    "df.head()"
   ]
  },
  {
   "cell_type": "code",
   "execution_count": 96,
   "metadata": {},
   "outputs": [],
   "source": [
    "df.to_csv(\"cleaned databases/enroll_institution_type.csv\")"
   ]
  },
  {
   "cell_type": "markdown",
   "metadata": {},
   "source": [
    "# Create Dataframes to be inserted"
   ]
  },
  {
   "cell_type": "code",
   "execution_count": null,
   "metadata": {},
   "outputs": [],
   "source": []
  }
 ],
 "metadata": {
  "kernelspec": {
   "display_name": "Python 3.9.6 64-bit",
   "name": "python396jvsc74a57bd0aee8b7b246df8f9039afb4144a1f6fd8d2ca17a180786b69acc140d282b71a49"
  },
  "language_info": {
   "codemirror_mode": {
    "name": "ipython",
    "version": 3
   },
   "file_extension": ".py",
   "mimetype": "text/x-python",
   "name": "python",
   "nbconvert_exporter": "python",
   "pygments_lexer": "ipython3",
   "version": "3.9.6"
  },
  "metadata": {
   "interpreter": {
    "hash": "aee8b7b246df8f9039afb4144a1f6fd8d2ca17a180786b69acc140d282b71a49"
   }
  },
  "orig_nbformat": 2
 },
 "nbformat": 4,
 "nbformat_minor": 2
}